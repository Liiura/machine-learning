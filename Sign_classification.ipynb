{
  "nbformat": 4,
  "nbformat_minor": 0,
  "metadata": {
    "colab": {
      "name": "Sign-classification.ipynb",
      "provenance": [],
      "collapsed_sections": [
        "KBTl_NSqDtN3",
        "7s1FvQTyaUIh"
      ],
      "toc_visible": true,
      "include_colab_link": true
    },
    "kernelspec": {
      "display_name": "Python 3",
      "name": "python3"
    },
    "language_info": {
      "name": "python"
    }
  },
  "cells": [
    {
      "cell_type": "markdown",
      "metadata": {
        "id": "view-in-github",
        "colab_type": "text"
      },
      "source": [
        "<a href=\"https://colab.research.google.com/github/Liiura/machine-learning/blob/main/Sign_classification.ipynb\" target=\"_parent\"><img src=\"https://colab.research.google.com/assets/colab-badge.svg\" alt=\"Open In Colab\"/></a>"
      ]
    },
    {
      "cell_type": "markdown",
      "metadata": {
        "id": "gHjVUiU1De_V"
      },
      "source": [
        "# Import data and libraries"
      ]
    },
    {
      "cell_type": "code",
      "metadata": {
        "colab": {
          "base_uri": "https://localhost:8080/"
        },
        "id": "TL0JF_xAbgnv",
        "outputId": "a4735769-e4f9-4b3d-ec94-f3aeeb4acd24"
      },
      "source": [
        "import pandas as pd\n",
        "from google.colab import files\n",
        "import io\n",
        "import numpy as np\n",
        "import matplotlib as mpl\n",
        "import matplotlib.pyplot as plt\n",
        "from google.colab import drive\n",
        "import random\n",
        "from sklearn.ensemble import RandomForestClassifier\n",
        "from sklearn.linear_model import SGDClassifier\n",
        "from sklearn.model_selection import cross_val_score\n",
        "from sklearn.linear_model import SGDClassifier\n",
        "from sklearn.model_selection import cross_val_predict\n",
        "from sklearn.metrics import confusion_matrix\n",
        "from sklearn.metrics import precision_score, recall_score\n",
        "from sklearn.metrics import f1_score\n",
        "from sklearn.svm import SVC\n",
        "from sklearn.multiclass import OneVsRestClassifier\n",
        "from sklearn.ensemble import RandomForestClassifier\n",
        "from sklearn.neighbors import KNeighborsClassifier\n",
        "from sklearn.model_selection import GridSearchCV\n",
        "from sklearn import preprocessing\n",
        "drive.mount('/gdrive/')"
      ],
      "execution_count": 91,
      "outputs": [
        {
          "output_type": "stream",
          "name": "stdout",
          "text": [
            "Drive already mounted at /gdrive/; to attempt to forcibly remount, call drive.mount(\"/gdrive/\", force_remount=True).\n"
          ]
        }
      ]
    },
    {
      "cell_type": "code",
      "metadata": {
        "id": "MqjeeBn8bzKx"
      },
      "source": [
        "sign_mnist = pd.read_csv('/gdrive/MyDrive/Proyecto IA/sign_mnist_train.csv') #pablo"
      ],
      "execution_count": null,
      "outputs": []
    },
    {
      "cell_type": "code",
      "metadata": {
        "id": "-tpZPiRl7AbG"
      },
      "source": [
        "sign_mnist = pd.read_csv('/gdrive/MyDrive/Recopilación de datos útiles/sign_mnist_train.csv') # alvaro"
      ],
      "execution_count": 93,
      "outputs": []
    },
    {
      "cell_type": "code",
      "metadata": {
        "id": "c3tWZ4eYAo3U"
      },
      "source": [
        "sign_mnist = pd.read_csv('/gdrive/MyDrive/sign_mnist_train.csv') # pipe"
      ],
      "execution_count": null,
      "outputs": []
    },
    {
      "cell_type": "markdown",
      "metadata": {
        "id": "KBTl_NSqDtN3"
      },
      "source": [
        "# Display data"
      ]
    },
    {
      "cell_type": "code",
      "metadata": {
        "id": "cdVQTloIDG1q"
      },
      "source": [
        "train_data_array = np.array(sign_mnist, dtype = 'float32') "
      ],
      "execution_count": 94,
      "outputs": []
    },
    {
      "cell_type": "code",
      "metadata": {
        "colab": {
          "base_uri": "https://localhost:8080/"
        },
        "id": "Fnf009JiCQei",
        "outputId": "3ac927a7-8d79-4a35-8c23-3ac90438ef59"
      },
      "source": [
        "sign_mnist.shape"
      ],
      "execution_count": 95,
      "outputs": [
        {
          "output_type": "execute_result",
          "data": {
            "text/plain": [
              "(27455, 785)"
            ]
          },
          "metadata": {},
          "execution_count": 95
        }
      ]
    },
    {
      "cell_type": "code",
      "metadata": {
        "id": "gZ5XJJ2SPtUS"
      },
      "source": [
        "classification = ['A', 'B', 'C', 'D', 'E', 'F', 'G', 'H', 'I', 'J', 'K', 'L', 'M', \n",
        "               'N', 'O', 'P', 'Q', 'R', 'S', 'T', 'U', 'V', 'W', 'X', 'Y','Z' ]"
      ],
      "execution_count": 96,
      "outputs": []
    },
    {
      "cell_type": "markdown",
      "metadata": {
        "id": "_df8oZWY622w"
      },
      "source": [
        ""
      ]
    },
    {
      "cell_type": "code",
      "metadata": {
        "id": "gTd_K8npFuX1"
      },
      "source": [
        "def displaySomesImages():\n",
        "  axes=[]\n",
        "  fig=plt.figure(figsize = (20,20))\n",
        "  rows = 5\n",
        "  cols = 3\n",
        "  for a in range(15):\n",
        "      axes.append( fig.add_subplot(rows, cols, a+1) )\n",
        "      subplot_title=(\"Seña\"+str(a))\n",
        "      axes[-1].set_title(subplot_title)  \n",
        "      plt.imshow(train_data_array[a,1:].reshape((28,28)))\n",
        "      print(classification[int(train_data_array[a,0])])"
      ],
      "execution_count": 97,
      "outputs": []
    },
    {
      "cell_type": "code",
      "metadata": {
        "colab": {
          "base_uri": "https://localhost:8080/",
          "height": 1000
        },
        "id": "2k61iD8XCdIz",
        "outputId": "1192709f-363c-4807-b83e-a6e039607526"
      },
      "source": [
        "displaySomesImages()"
      ],
      "execution_count": 98,
      "outputs": [
        {
          "output_type": "stream",
          "name": "stdout",
          "text": [
            "D\n",
            "G\n",
            "C\n",
            "C\n",
            "N\n",
            "Q\n",
            "I\n",
            "W\n",
            "D\n",
            "D\n",
            "S\n",
            "K\n",
            "Q\n",
            "W\n",
            "U\n"
          ]
        },
        {
          "output_type": "display_data",
          "data": {
            "image/png": "[encoded data removed]",
            "text/plain": [
              "<Figure size 1440x1440 with 15 Axes>"
            ]
          },
          "metadata": {
            "needs_background": "light"
          }
        }
      ]
    },
    {
      "cell_type": "markdown",
      "metadata": {
        "id": "k40ux8C_99qC"
      },
      "source": [
        "# Split data for training"
      ]
    },
    {
      "cell_type": "code",
      "metadata": {
        "id": "LHNOeIvN-DeU"
      },
      "source": [
        "X,Y=train_data_array[:,1:],train_data_array[:,0]"
      ],
      "execution_count": 99,
      "outputs": []
    },
    {
      "cell_type": "code",
      "metadata": {
        "colab": {
          "base_uri": "https://localhost:8080/"
        },
        "id": "NDovoWCe-XO9",
        "outputId": "1273aa03-f3e3-4c0c-830b-2d4736cbf4a8"
      },
      "source": [
        "X.shape"
      ],
      "execution_count": 100,
      "outputs": [
        {
          "output_type": "execute_result",
          "data": {
            "text/plain": [
              "(27455, 784)"
            ]
          },
          "metadata": {},
          "execution_count": 100
        }
      ]
    },
    {
      "cell_type": "code",
      "metadata": {
        "colab": {
          "base_uri": "https://localhost:8080/"
        },
        "id": "BbfAYKqgRQlT",
        "outputId": "41e2f122-a938-453f-d880-4dbc6d106f6d"
      },
      "source": [
        "Y.shape"
      ],
      "execution_count": 101,
      "outputs": [
        {
          "output_type": "execute_result",
          "data": {
            "text/plain": [
              "(27455,)"
            ]
          },
          "metadata": {},
          "execution_count": 101
        }
      ]
    },
    {
      "cell_type": "code",
      "metadata": {
        "id": "qLaEwYOBqWQg"
      },
      "source": [
        "x_train,x_test,y_train,y_test = X[:1000],X[1000:],Y[:1000],Y[1000:]\n",
        "x_test,y_test = x_test[:200], y_test[:200]"
      ],
      "execution_count": 102,
      "outputs": []
    },
    {
      "cell_type": "markdown",
      "metadata": {
        "id": "xej9Jr6eDWno"
      },
      "source": [
        "# Share Methods"
      ]
    },
    {
      "cell_type": "code",
      "metadata": {
        "id": "09IwqqLIDZbf"
      },
      "source": [
        "def plot_confusion_matrix(matrix):\n",
        "    \"\"\"If you prefer color and a colorbar\"\"\"\n",
        "    fig = plt.figure(figsize=(8,8))\n",
        "    ax = fig.add_subplot(111)\n",
        "    cax = ax.matshow(matrix)\n",
        "    fig.colorbar(cax)\n"
      ],
      "execution_count": 103,
      "outputs": []
    },
    {
      "cell_type": "code",
      "metadata": {
        "id": "CUGkfmQLDfEK"
      },
      "source": [
        "def display_score(scores):\n",
        "  print(\"Scores\",scores)\n",
        "  print(\"Mean\",scores.mean())\n",
        "  print(\"standard desviation\",scores.std()) # mostramos los scores"
      ],
      "execution_count": 104,
      "outputs": []
    },
    {
      "cell_type": "code",
      "metadata": {
        "id": "dxjM18mYDgN3"
      },
      "source": [
        "def display_other_scores(y_train_pred):\n",
        "  error_params = ['micro','macro','weighted']\n",
        "  for i in error_params:\n",
        "    print(\"Show results with\",i)\n",
        "    print(\"Precision score\",precision_score(y_train[:1000], y_train_pred,average=i))\n",
        "    print(\"Recall score\",recall_score(y_train[:1000], y_train_pred,average=i))\n",
        "    print(\"F1 score\",f1_score(y_train[:1000], y_train_pred,average=i))\n",
        "    print(\"\\n\")\n"
      ],
      "execution_count": 105,
      "outputs": []
    },
    {
      "cell_type": "markdown",
      "metadata": {
        "id": "7s1FvQTyaUIh"
      },
      "source": [
        "# Training SGDClassifier"
      ]
    },
    {
      "cell_type": "code",
      "metadata": {
        "colab": {
          "base_uri": "https://localhost:8080/"
        },
        "id": "TevBulY6aXbB",
        "outputId": "873cc666-3175-42db-e6d5-5bcbc9c1e98f"
      },
      "source": [
        "some_letter = x_test[9,:] #\n",
        "print(classification[int(y_test[9])])"
      ],
      "execution_count": 106,
      "outputs": [
        {
          "output_type": "stream",
          "name": "stdout",
          "text": [
            "D\n"
          ]
        }
      ]
    },
    {
      "cell_type": "code",
      "metadata": {
        "id": "rUIBpzpIamoF"
      },
      "source": [
        "sgd_clf = SGDClassifier()\n"
      ],
      "execution_count": 107,
      "outputs": []
    },
    {
      "cell_type": "code",
      "metadata": {
        "colab": {
          "base_uri": "https://localhost:8080/"
        },
        "id": "Df8YLkEIh2Vt",
        "outputId": "495cbdb9-056a-4990-bb9b-131cfaeafdfd"
      },
      "source": [
        "sgd_clf_cross_val = cross_val_score(sgd_clf, x_train, y_train, cv=3, scoring=\"accuracy\") # utilizamos el accuracy porque el dataset está bien balanceado\n",
        "display_score(sgd_clf_cross_val)"
      ],
      "execution_count": 108,
      "outputs": [
        {
          "output_type": "stream",
          "name": "stdout",
          "text": [
            "Scores [0.60479042 0.58258258 0.58858859]\n",
            "Mean 0.5919871967776159\n",
            "standard desviation 0.009379406683361525\n"
          ]
        }
      ]
    },
    {
      "cell_type": "markdown",
      "metadata": {
        "id": "v0vLOVBN9MjK"
      },
      "source": [
        "Hasta el momento podemos ver que el modelo nos es muy bueno trabajando solo con mil datos, sin embargo, para este trabajo se volvió necesario limitar la cantidad de datos porque los cross validatios y los GridSearch tienen un alto tiempo de procesamiento"
      ]
    },
    {
      "cell_type": "markdown",
      "metadata": {
        "id": "aYe4OMC0nXIm"
      },
      "source": [
        "# Confusion matrix and error metrics of SDGClassifier"
      ]
    },
    {
      "cell_type": "markdown",
      "metadata": {
        "id": "pysmTCvW9s8T"
      },
      "source": [
        "En esta sección veremos algunos análisis como la matriz de confusión y algunas métricas de errores que nos darán mucha más información acerca del modelo"
      ]
    },
    {
      "cell_type": "code",
      "metadata": {
        "id": "pFG1EiPmURio"
      },
      "source": [
        "grid = {\n",
        "    'alpha': [1e-4, 1e-3, 1e-2], # learning rate\n",
        "    'max_iter': [5000,4000,3000], # number of epochs\n",
        "    'loss': ['log','hinge'],\n",
        "    'penalty': ['l2','l1'],\n",
        "    'n_jobs': [-1]\n",
        "}"
      ],
      "execution_count": 110,
      "outputs": []
    },
    {
      "cell_type": "code",
      "metadata": {
        "id": "GEIT4gWrVsOP"
      },
      "source": [
        "grid_search = GridSearchCV(sgd_clf, grid, cv=3,\n",
        "                           scoring='accuracy',\n",
        "                           return_train_score=True)"
      ],
      "execution_count": 111,
      "outputs": []
    },
    {
      "cell_type": "code",
      "metadata": {
        "colab": {
          "base_uri": "https://localhost:8080/"
        },
        "id": "WZfSaJUOXdOd",
        "outputId": "9148c0c3-d4c8-4a54-d35e-46bd95601559"
      },
      "source": [
        "grid_search.fit(x_train, y_train)"
      ],
      "execution_count": 112,
      "outputs": [
        {
          "output_type": "stream",
          "name": "stderr",
          "text": [
            "/usr/local/lib/python3.7/dist-packages/sklearn/linear_model/_stochastic_gradient.py:700: ConvergenceWarning: Maximum number of iteration reached before convergence. Consider increasing max_iter to improve the fit.\n",
            "  ConvergenceWarning,\n"
          ]
        },
        {
          "output_type": "execute_result",
          "data": {
            "text/plain": [
              "GridSearchCV(cv=3, estimator=SGDClassifier(),\n",
              "             param_grid={'alpha': [0.0001, 0.001, 0.01],\n",
              "                         'loss': ['log', 'hinge'],\n",
              "                         'max_iter': [5000, 4000, 3000], 'n_jobs': [-1],\n",
              "                         'penalty': ['l2', 'l1']},\n",
              "             return_train_score=True, scoring='accuracy')"
            ]
          },
          "metadata": {},
          "execution_count": 112
        }
      ]
    },
    {
      "cell_type": "code",
      "metadata": {
        "colab": {
          "base_uri": "https://localhost:8080/"
        },
        "id": "AQXXVtoUs6fP",
        "outputId": "fdb23163-0618-4e97-efba-49079f6ee97c"
      },
      "source": [
        "grid_search.best_params_"
      ],
      "execution_count": 113,
      "outputs": [
        {
          "output_type": "execute_result",
          "data": {
            "text/plain": [
              "{'alpha': 0.0001,\n",
              " 'loss': 'hinge',\n",
              " 'max_iter': 5000,\n",
              " 'n_jobs': -1,\n",
              " 'penalty': 'l1'}"
            ]
          },
          "metadata": {},
          "execution_count": 113
        }
      ]
    },
    {
      "cell_type": "code",
      "metadata": {
        "id": "YZ9v8pXLIQYs"
      },
      "source": [
        "sgd_clf = SGDClassifier(alpha=0.001,loss='log',max_iter=5000,n_jobs=-1,penalty='l1')"
      ],
      "execution_count": 114,
      "outputs": []
    },
    {
      "cell_type": "code",
      "metadata": {
        "colab": {
          "base_uri": "https://localhost:8080/"
        },
        "id": "jfVwOzmtIQQY",
        "outputId": "f8177817-ef48-4cfc-e821-870e407d8b9d"
      },
      "source": [
        "sgd_clf_cross_val = cross_val_score(sgd_clf, x_train, y_train, cv=3, scoring=\"accuracy\") # utilizamos el accuracy porque el dataset está bien balanceado\n",
        "display_score(sgd_clf_cross_val)"
      ],
      "execution_count": 115,
      "outputs": [
        {
          "output_type": "stream",
          "name": "stdout",
          "text": [
            "Scores [0.6497006  0.64564565 0.62462462]\n",
            "Mean 0.6399902896908886\n",
            "standard desviation 0.0109905537765334\n"
          ]
        }
      ]
    },
    {
      "cell_type": "markdown",
      "metadata": {
        "id": "rBT5Zm0I2yAD"
      },
      "source": [
        "Comos se puede observar vemos una mejora en el modelo al momento encontrar los mejores parámetros con el GridSearch que cuando lo trabajamos con los sensible defaults"
      ]
    },
    {
      "cell_type": "code",
      "metadata": {
        "id": "tiBdMLvhIQHn"
      },
      "source": [
        "y_train_pred = cross_val_predict(sgd_clf, x_train, y_train, cv=3)"
      ],
      "execution_count": 116,
      "outputs": []
    },
    {
      "cell_type": "code",
      "metadata": {
        "id": "10TUuwe5IP4Z"
      },
      "source": [
        "conf_matrix=confusion_matrix(y_train, y_train_pred)"
      ],
      "execution_count": 117,
      "outputs": []
    },
    {
      "cell_type": "code",
      "metadata": {
        "id": "wyzropo-Jzox",
        "colab": {
          "base_uri": "https://localhost:8080/"
        },
        "outputId": "7e2de0cc-803c-4065-ebf0-eefc4baca331"
      },
      "source": [
        "display_other_scores(y_train_pred)"
      ],
      "execution_count": 118,
      "outputs": [
        {
          "output_type": "stream",
          "name": "stdout",
          "text": [
            "Show results with micro\n",
            "Precision score 0.654\n",
            "Recall score 0.654\n",
            "F1 score 0.654\n",
            "\n",
            "\n",
            "Show results with macro\n",
            "Precision score 0.6525990928513096\n",
            "Recall score 0.6353831288699744\n",
            "F1 score 0.6391650960921605\n",
            "\n",
            "\n",
            "Show results with weighted\n",
            "Precision score 0.6663732784937624\n",
            "Recall score 0.654\n",
            "F1 score 0.6558054300156382\n",
            "\n",
            "\n"
          ]
        }
      ]
    },
    {
      "cell_type": "markdown",
      "metadata": {
        "id": "IFd6vBrN88s5"
      },
      "source": [
        "Luego de entrenar el modelo con los mejores parametros dados por el GridSearch, obtenemos los scores utilizando los parametros Micro, Macro y Weighted, y evidenciamos que para el micro se obtienen los mejores scores"
      ]
    },
    {
      "cell_type": "code",
      "metadata": {
        "colab": {
          "base_uri": "https://localhost:8080/"
        },
        "id": "RNeu5K1ks4Ut",
        "outputId": "9c674ec8-b836-4fc1-f633-245248017e69"
      },
      "source": [
        "sgd_clf.fit(x_train, y_train)\n"
      ],
      "execution_count": 119,
      "outputs": [
        {
          "output_type": "execute_result",
          "data": {
            "text/plain": [
              "SGDClassifier(alpha=0.001, loss='log', max_iter=5000, n_jobs=-1, penalty='l1')"
            ]
          },
          "metadata": {},
          "execution_count": 119
        }
      ]
    },
    {
      "cell_type": "code",
      "metadata": {
        "id": "-yCxzCzjJ1y2",
        "colab": {
          "base_uri": "https://localhost:8080/"
        },
        "outputId": "00cab480-9900-44ab-d06d-d5f25bad9ec1"
      },
      "source": [
        "sign_pred = sgd_clf.predict([some_letter])[0]\n",
        "print(\"the prediction was\",classification[int(sign_pred)])"
      ],
      "execution_count": 120,
      "outputs": [
        {
          "output_type": "stream",
          "name": "stdout",
          "text": [
            "the prediction was D\n"
          ]
        }
      ]
    },
    {
      "cell_type": "markdown",
      "metadata": {
        "id": "VHecji6qrokc"
      },
      "source": [
        "# Graphs SGDClassifier"
      ]
    },
    {
      "cell_type": "code",
      "metadata": {
        "colab": {
          "base_uri": "https://localhost:8080/",
          "height": 476
        },
        "id": "HSbxs-Hsg6uX",
        "outputId": "3a9dbe9a-44f4-4fe8-93a6-55a0a47b3aeb"
      },
      "source": [
        "plot_confusion_matrix(conf_matrix)"
      ],
      "execution_count": 122,
      "outputs": [
        {
          "output_type": "display_data",
          "data": {
            "image/png": "[encoded data removed]",
            "text/plain": [
              "<Figure size 576x576 with 2 Axes>"
            ]
          },
          "metadata": {
            "needs_background": "light"
          }
        }
      ]
    },
    {
      "cell_type": "markdown",
      "metadata": {
        "id": "KSR8vyUzFZpX"
      },
      "source": [
        "En la grafica observamos en la diagonal los True positive, donde en algunos se tiene una buena tendencia hacia los colores verde y amarillo"
      ]
    },
    {
      "cell_type": "markdown",
      "metadata": {
        "id": "IdOWq-rG2tFz"
      },
      "source": [
        "# SVC"
      ]
    },
    {
      "cell_type": "code",
      "metadata": {
        "id": "wktpQFpHw4W_"
      },
      "source": [
        "svc_clf = SVC()"
      ],
      "execution_count": 123,
      "outputs": []
    },
    {
      "cell_type": "code",
      "metadata": {
        "colab": {
          "base_uri": "https://localhost:8080/"
        },
        "id": "RoBpKU82Exvq",
        "outputId": "87767c4d-a3c7-4ca0-938c-30b24e604a7f"
      },
      "source": [
        "svc_clf_cross_val = cross_val_score(svc_clf, x_train, y_train, cv=3, scoring=\"accuracy\") # utilizamos el accuracy porque el dataset está bien balanceado\n",
        "display_score(sgd_clf_cross_val)"
      ],
      "execution_count": 124,
      "outputs": [
        {
          "output_type": "stream",
          "name": "stdout",
          "text": [
            "Scores [0.6497006  0.64564565 0.62462462]\n",
            "Mean 0.6399902896908886\n",
            "standard desviation 0.0109905537765334\n"
          ]
        }
      ]
    },
    {
      "cell_type": "markdown",
      "metadata": {
        "id": "8h3jQd7F5J11"
      },
      "source": [
        "Podemos observar que los scores son mucho mejores que los de SDG classifier incluso teniendo los sensible defaults"
      ]
    },
    {
      "cell_type": "markdown",
      "metadata": {
        "id": "QKgPorNvGCYx"
      },
      "source": [
        "# Confusion matrix and error metrics of SVC model"
      ]
    },
    {
      "cell_type": "code",
      "metadata": {
        "id": "0eU-nyjSu3Hi"
      },
      "source": [
        "grid = {\n",
        "    'C': [1.0,1.2], # learning rate\n",
        "    'kernel': ['linear', 'poly', 'rbf'],\n",
        "    'max_iter': [1500,1300,1100], # number of epochs\n",
        "    'gamma': ['scale', 'auto'],\n",
        "    'tol': [1e-4, 1e-3, 1e-2]\n",
        "}"
      ],
      "execution_count": 125,
      "outputs": []
    },
    {
      "cell_type": "code",
      "metadata": {
        "id": "KzfBIRCMyPnY"
      },
      "source": [
        "grid_search = GridSearchCV(svc_clf, grid, cv=3,\n",
        "                           scoring='accuracy',\n",
        "                           return_train_score=True)"
      ],
      "execution_count": 126,
      "outputs": []
    },
    {
      "cell_type": "code",
      "metadata": {
        "id": "PEq-HOhUybUU"
      },
      "source": [
        "grid_search.fit(x_train, y_train)"
      ],
      "execution_count": null,
      "outputs": []
    },
    {
      "cell_type": "code",
      "metadata": {
        "colab": {
          "base_uri": "https://localhost:8080/"
        },
        "id": "vxy-REPZzsnV",
        "outputId": "aa0b0afc-4b2a-4651-f842-fbec205e7d8f"
      },
      "source": [
        "grid_search.best_params_"
      ],
      "execution_count": 128,
      "outputs": [
        {
          "output_type": "execute_result",
          "data": {
            "text/plain": [
              "{'C': 1.0,\n",
              " 'gamma': 'scale',\n",
              " 'kernel': 'linear',\n",
              " 'max_iter': 1500,\n",
              " 'tol': 0.0001}"
            ]
          },
          "metadata": {},
          "execution_count": 128
        }
      ]
    },
    {
      "cell_type": "code",
      "metadata": {
        "id": "8yI1xZ11Dzkj"
      },
      "source": [
        "svc_clf = SVC(C=1.0,gamma='scale',kernel='linear',max_iter=1500,tol=0.0001)"
      ],
      "execution_count": 129,
      "outputs": []
    },
    {
      "cell_type": "code",
      "metadata": {
        "id": "Ehjjb2EvD0rM"
      },
      "source": [
        "svc_clf_cross_val = cross_val_score(svc_clf, x_train, y_train, cv=3, scoring=\"accuracy\") # utilizamos el accuracy porque el dataset está bien balanceado\n"
      ],
      "execution_count": null,
      "outputs": []
    },
    {
      "cell_type": "code",
      "metadata": {
        "colab": {
          "base_uri": "https://localhost:8080/"
        },
        "id": "CUNCnqSxEbhS",
        "outputId": "7930d4a5-4808-4325-cd07-b40f2486eb3b"
      },
      "source": [
        "display_score(sgd_clf_cross_val)"
      ],
      "execution_count": 131,
      "outputs": [
        {
          "output_type": "stream",
          "name": "stdout",
          "text": [
            "Scores [0.6497006  0.64564565 0.62462462]\n",
            "Mean 0.6399902896908886\n",
            "standard desviation 0.0109905537765334\n"
          ]
        }
      ]
    },
    {
      "cell_type": "markdown",
      "metadata": {
        "id": "7-UkMXGETFjK"
      },
      "source": [
        "Comos se puede observar se tiene el mismo resultado del modelo al momento utilizar los mejores parametros dados por grid search, que con lo sensible defaults"
      ]
    },
    {
      "cell_type": "code",
      "metadata": {
        "id": "lQrsRC5QEh_m",
        "colab": {
          "base_uri": "https://localhost:8080/"
        },
        "outputId": "365d2085-628e-4801-f381-32a85a2bc779"
      },
      "source": [
        "y_train_pred = cross_val_predict(svc_clf, x_train, y_train, cv=3)"
      ],
      "execution_count": 132,
      "outputs": [
        {
          "output_type": "stream",
          "name": "stderr",
          "text": [
            "/usr/local/lib/python3.7/dist-packages/sklearn/svm/_base.py:289: ConvergenceWarning: Solver terminated early (max_iter=1500).  Consider pre-processing your data with StandardScaler or MinMaxScaler.\n",
            "  ConvergenceWarning,\n",
            "/usr/local/lib/python3.7/dist-packages/sklearn/svm/_base.py:289: ConvergenceWarning: Solver terminated early (max_iter=1500).  Consider pre-processing your data with StandardScaler or MinMaxScaler.\n",
            "  ConvergenceWarning,\n"
          ]
        }
      ]
    },
    {
      "cell_type": "code",
      "metadata": {
        "id": "uVUS4r_0EkXI"
      },
      "source": [
        "conf_matrix=confusion_matrix(y_train, y_train_pred)"
      ],
      "execution_count": 133,
      "outputs": []
    },
    {
      "cell_type": "markdown",
      "metadata": {
        "id": "LIgGjnyYVesB"
      },
      "source": [
        "**Medimos la precision del modelo con diferentes métricas y evaluamos la mejor**"
      ]
    },
    {
      "cell_type": "code",
      "metadata": {
        "colab": {
          "base_uri": "https://localhost:8080/"
        },
        "id": "abSO8YL-GybR",
        "outputId": "2c6141b2-a934-46e2-a8fd-599d5ad10efe"
      },
      "source": [
        "display_other_scores(y_train_pred)"
      ],
      "execution_count": 134,
      "outputs": [
        {
          "output_type": "stream",
          "name": "stdout",
          "text": [
            "Show results with micro\n",
            "Precision score 0.78\n",
            "Recall score 0.78\n",
            "F1 score 0.78\n",
            "\n",
            "\n",
            "Show results with macro\n",
            "Precision score 0.7728692341586726\n",
            "Recall score 0.7604146616389483\n",
            "F1 score 0.7620992337277338\n",
            "\n",
            "\n",
            "Show results with weighted\n",
            "Precision score 0.7782656614277359\n",
            "Recall score 0.78\n",
            "F1 score 0.7751559735198994\n",
            "\n",
            "\n"
          ]
        }
      ]
    },
    {
      "cell_type": "markdown",
      "metadata": {
        "id": "J7ty7RLb-d1Y"
      },
      "source": [
        "Luego de entrenar el modelo con los mejores parametros dados por el GridSearch, se obtiene una buena mejora en los scores, claramente funciona mucho mejor para el parametro micro"
      ]
    },
    {
      "cell_type": "code",
      "metadata": {
        "colab": {
          "base_uri": "https://localhost:8080/"
        },
        "id": "JP3iV3kxI5p3",
        "outputId": "7b09b6c5-9886-4c44-9efc-b2e80e8e43a2"
      },
      "source": [
        "svc_clf.fit(x_train,y_train)"
      ],
      "execution_count": 135,
      "outputs": [
        {
          "output_type": "stream",
          "name": "stderr",
          "text": [
            "/usr/local/lib/python3.7/dist-packages/sklearn/svm/_base.py:289: ConvergenceWarning: Solver terminated early (max_iter=1500).  Consider pre-processing your data with StandardScaler or MinMaxScaler.\n",
            "  ConvergenceWarning,\n"
          ]
        },
        {
          "output_type": "execute_result",
          "data": {
            "text/plain": [
              "SVC(kernel='linear', max_iter=1500, tol=0.0001)"
            ]
          },
          "metadata": {},
          "execution_count": 135
        }
      ]
    },
    {
      "cell_type": "code",
      "metadata": {
        "id": "Ijt_N2NrJp8y",
        "colab": {
          "base_uri": "https://localhost:8080/"
        },
        "outputId": "49207a65-d0b7-49c2-9b75-1d2e44291712"
      },
      "source": [
        "sign_pred= svc_clf.predict([some_letter])\n",
        "print(\"the prediction was\",classification[int(sign_pred)])"
      ],
      "execution_count": 136,
      "outputs": [
        {
          "output_type": "stream",
          "name": "stdout",
          "text": [
            "the prediction was D\n"
          ]
        }
      ]
    },
    {
      "cell_type": "markdown",
      "metadata": {
        "id": "o8oC0gd_3Azd"
      },
      "source": [
        "# Graphs SVC"
      ]
    },
    {
      "cell_type": "code",
      "metadata": {
        "colab": {
          "base_uri": "https://localhost:8080/",
          "height": 476
        },
        "id": "XFzgys_PX5lc",
        "outputId": "300ac518-5d53-4afb-e642-17c57a80614b"
      },
      "source": [
        "plot_confusion_matrix(conf_matrix)"
      ],
      "execution_count": 121,
      "outputs": [
        {
          "output_type": "display_data",
          "data": {
            "image/png": "[encoded data removed]",
            "text/plain": [
              "<Figure size 576x576 with 2 Axes>"
            ]
          },
          "metadata": {
            "needs_background": "light"
          }
        }
      ]
    },
    {
      "cell_type": "markdown",
      "metadata": {
        "id": "4Mmsevr7EWZT"
      },
      "source": [
        "Como se puede observar en la grafica, se tiene una mayor tendencia a los colores verde y amarillo, con respecto a el SDG"
      ]
    },
    {
      "cell_type": "markdown",
      "metadata": {
        "id": "ftEy9D653Vhr"
      },
      "source": [
        "# Using Kneighbors"
      ]
    },
    {
      "cell_type": "code",
      "metadata": {
        "id": "TDu2Ss4hs-iv"
      },
      "source": [
        "knn_classif = KNeighborsClassifier()"
      ],
      "execution_count": 137,
      "outputs": []
    },
    {
      "cell_type": "code",
      "metadata": {
        "colab": {
          "base_uri": "https://localhost:8080/"
        },
        "id": "skynull-HZLi",
        "outputId": "acc2e5e2-8b4d-461e-aedf-1179d2eff61c"
      },
      "source": [
        "sgd_clf_cross_val = cross_val_score(knn_classif, x_train, y_train, cv=3, scoring=\"accuracy\") # utilizamos el accuracy porque el dataset está bien balanceado\n",
        "display_score(sgd_clf_cross_val)"
      ],
      "execution_count": 138,
      "outputs": [
        {
          "output_type": "stream",
          "name": "stdout",
          "text": [
            "Scores [0.47005988 0.47447447 0.51051051]\n",
            "Mean 0.48501495507483533\n",
            "standard desviation 0.018117940846851453\n"
          ]
        }
      ]
    },
    {
      "cell_type": "markdown",
      "metadata": {
        "id": "n3Xp7KjrJFSb"
      },
      "source": [
        "# Confusion matrix and error metrics of KNeighborsClassifier model"
      ]
    },
    {
      "cell_type": "code",
      "metadata": {
        "id": "dX0h19ZS-Mvo"
      },
      "source": [
        "grid = {\n",
        "    'n_neighbors': [1,2,3,4], # learning rate\n",
        "    'weights': ['uniform', 'distance'],\n",
        "    'algorithm': ['auto', 'ball_tree', 'kd_tree', 'brute'], # number of epochs\n",
        "}"
      ],
      "execution_count": 139,
      "outputs": []
    },
    {
      "cell_type": "code",
      "metadata": {
        "id": "5IyTHaAnAICN"
      },
      "source": [
        "grid_search = GridSearchCV(knn_classif, grid, cv=3,\n",
        "                           scoring='accuracy',\n",
        "                           return_train_score=True)"
      ],
      "execution_count": 140,
      "outputs": []
    },
    {
      "cell_type": "code",
      "metadata": {
        "colab": {
          "base_uri": "https://localhost:8080/"
        },
        "id": "61unlCmXAS7X",
        "outputId": "603f346a-3d35-42cc-e153-48870fdd2ea8"
      },
      "source": [
        "grid_search.fit(x_train, y_train)"
      ],
      "execution_count": 141,
      "outputs": [
        {
          "output_type": "execute_result",
          "data": {
            "text/plain": [
              "GridSearchCV(cv=3, estimator=KNeighborsClassifier(),\n",
              "             param_grid={'algorithm': ['auto', 'ball_tree', 'kd_tree', 'brute'],\n",
              "                         'n_neighbors': [1, 2, 3, 4],\n",
              "                         'weights': ['uniform', 'distance']},\n",
              "             return_train_score=True, scoring='accuracy')"
            ]
          },
          "metadata": {},
          "execution_count": 141
        }
      ]
    },
    {
      "cell_type": "code",
      "metadata": {
        "colab": {
          "base_uri": "https://localhost:8080/"
        },
        "id": "FRmTq1SiAiw6",
        "outputId": "a8885652-2965-46e9-e0d4-f9b584abe542"
      },
      "source": [
        "grid_search.best_params_"
      ],
      "execution_count": 142,
      "outputs": [
        {
          "output_type": "execute_result",
          "data": {
            "text/plain": [
              "{'algorithm': 'auto', 'n_neighbors': 1, 'weights': 'uniform'}"
            ]
          },
          "metadata": {},
          "execution_count": 142
        }
      ]
    },
    {
      "cell_type": "code",
      "metadata": {
        "id": "kdPMunucCjXQ"
      },
      "source": [
        "knn_classif = KNeighborsClassifier(algorithm='auto',n_neighbors=1,weights='uniform')"
      ],
      "execution_count": 143,
      "outputs": []
    },
    {
      "cell_type": "code",
      "metadata": {
        "colab": {
          "base_uri": "https://localhost:8080/"
        },
        "id": "iJzjDJKNCobc",
        "outputId": "50bc0464-99a0-4f45-ba6e-247144155c08"
      },
      "source": [
        "knn_classif_cross_val = cross_val_score(knn_classif, x_train, y_train, cv=3, scoring=\"accuracy\") # utilizamos el accuracy porque el dataset está bien balanceado\n",
        "display_score(sgd_clf_cross_val)"
      ],
      "execution_count": 144,
      "outputs": [
        {
          "output_type": "stream",
          "name": "stdout",
          "text": [
            "Scores [0.47005988 0.47447447 0.51051051]\n",
            "Mean 0.48501495507483533\n",
            "standard desviation 0.018117940846851453\n"
          ]
        }
      ]
    },
    {
      "cell_type": "markdown",
      "metadata": {
        "id": "DRnJx4BHDyz5"
      },
      "source": [
        "Comos se puede observar se tiene el mismo resultado del modelo al momento utilizar los mejores parametros dados por grid search, que con lo sensible defaults"
      ]
    },
    {
      "cell_type": "code",
      "metadata": {
        "id": "Vp7RvH_DC2qG"
      },
      "source": [
        "y_train_pred = cross_val_predict(knn_classif, x_train, y_train, cv=3)"
      ],
      "execution_count": 145,
      "outputs": []
    },
    {
      "cell_type": "code",
      "metadata": {
        "id": "v5i9p0IRDqwF"
      },
      "source": [
        "conf_matrix=confusion_matrix(y_train, y_train_pred)"
      ],
      "execution_count": 146,
      "outputs": []
    },
    {
      "cell_type": "code",
      "metadata": {
        "colab": {
          "base_uri": "https://localhost:8080/"
        },
        "id": "mJ9x3T7FDMaW",
        "outputId": "c60a170a-b1ce-4a0f-90d9-bf680bb6a947"
      },
      "source": [
        "display_other_scores(y_train_pred)"
      ],
      "execution_count": 147,
      "outputs": [
        {
          "output_type": "stream",
          "name": "stdout",
          "text": [
            "Show results with micro\n",
            "Precision score 0.644\n",
            "Recall score 0.644\n",
            "F1 score 0.644\n",
            "\n",
            "\n",
            "Show results with macro\n",
            "Precision score 0.6450709709369988\n",
            "Recall score 0.6199574405090003\n",
            "F1 score 0.6236211285307314\n",
            "\n",
            "\n",
            "Show results with weighted\n",
            "Precision score 0.6629087243684257\n",
            "Recall score 0.644\n",
            "F1 score 0.6447084553170118\n",
            "\n",
            "\n"
          ]
        }
      ]
    },
    {
      "cell_type": "markdown",
      "metadata": {
        "id": "cdJzSRkd-2PU"
      },
      "source": [
        "Al obtener los scores utilizando los parametros Micro, Macro y Weighted, evidenciamos que para el Weighted se obtienen los mejores scores aunque no se obtuvieron muy buenos resultados"
      ]
    },
    {
      "cell_type": "code",
      "metadata": {
        "id": "C5xHFfy1-KcE",
        "colab": {
          "base_uri": "https://localhost:8080/"
        },
        "outputId": "18b46bc6-697b-4740-8762-295bffdff5f0"
      },
      "source": [
        "knn_classif.fit(x_train, y_train)"
      ],
      "execution_count": 148,
      "outputs": [
        {
          "output_type": "execute_result",
          "data": {
            "text/plain": [
              "KNeighborsClassifier(n_neighbors=1)"
            ]
          },
          "metadata": {},
          "execution_count": 148
        }
      ]
    },
    {
      "cell_type": "code",
      "metadata": {
        "id": "noesxT6LJkem",
        "colab": {
          "base_uri": "https://localhost:8080/"
        },
        "outputId": "dc3562bf-f85c-4b5a-e708-eb01766dd0fa"
      },
      "source": [
        "sign_pred= knn_classif.predict([some_letter])\n",
        "print(\"the prediction was\",classification[int(sign_pred)])"
      ],
      "execution_count": 149,
      "outputs": [
        {
          "output_type": "stream",
          "name": "stdout",
          "text": [
            "the prediction was D\n"
          ]
        }
      ]
    },
    {
      "cell_type": "markdown",
      "metadata": {
        "id": "pYtua2-q_idp"
      },
      "source": [
        "Siendo uno de los más bajos resultados entre  los modelos, este predijo correctamente para la letra D, esto no quiere decir que sea un modelo confiable"
      ]
    },
    {
      "cell_type": "markdown",
      "metadata": {
        "id": "qWAHV-6LMzT6"
      },
      "source": [
        "# Graphs KNeighborsClassifier"
      ]
    },
    {
      "cell_type": "code",
      "metadata": {
        "colab": {
          "base_uri": "https://localhost:8080/",
          "height": 472
        },
        "id": "XMnE_wkIM8uv",
        "outputId": "f871f185-a56d-41d4-87a6-55b208ae55d0"
      },
      "source": [
        "plot_confusion_matrix(conf_matrix)"
      ],
      "execution_count": 150,
      "outputs": [
        {
          "output_type": "display_data",
          "data": {
            "image/png": "[encoded data removed]",
            "text/plain": [
              "<Figure size 576x576 with 2 Axes>"
            ]
          },
          "metadata": {
            "needs_background": "light"
          }
        }
      ]
    },
    {
      "cell_type": "markdown",
      "metadata": {
        "id": "FdWVbuCGF6GO"
      },
      "source": [
        "Para este modelo la tedencia de los true positives es mucho inferior, sin embargo realizo correctamente la predición para la letra D"
      ]
    },
    {
      "cell_type": "markdown",
      "metadata": {
        "id": "UkqksnMNGt-d"
      },
      "source": [
        "# Using RandomForest"
      ]
    },
    {
      "cell_type": "code",
      "metadata": {
        "id": "zEu8HVv1J7aw"
      },
      "source": [
        "clf_ramdom_fores = RandomForestClassifier()"
      ],
      "execution_count": 151,
      "outputs": []
    },
    {
      "cell_type": "code",
      "metadata": {
        "colab": {
          "base_uri": "https://localhost:8080/"
        },
        "id": "E2S9RXNrKcXq",
        "outputId": "d43efb3a-4527-406f-f2a1-fe79e16eab8e"
      },
      "source": [
        "sgd_clf_cross_val = cross_val_score(clf_ramdom_fores, x_train, y_train, cv=3, scoring=\"accuracy\") # utilizamos el accuracy porque el dataset está bien balanceado\n",
        "display_score(sgd_clf_cross_val)"
      ],
      "execution_count": 152,
      "outputs": [
        {
          "output_type": "stream",
          "name": "stdout",
          "text": [
            "Scores [0.64071856 0.58858859 0.59459459]\n",
            "Mean 0.6079672486858115\n",
            "standard desviation 0.023288115178326158\n"
          ]
        }
      ]
    },
    {
      "cell_type": "markdown",
      "metadata": {
        "id": "JlO5TW_EK2G-"
      },
      "source": [
        "# Confusion matrix and error metrics of RandomForest model"
      ]
    },
    {
      "cell_type": "code",
      "metadata": {
        "id": "dbqEdIC7LLsb"
      },
      "source": [
        "grid = { \n",
        "    'n_estimators': [200, 500],\n",
        "    'max_features': ['auto', 'sqrt', 'log2'],\n",
        "    'max_depth' : [4,5,6,7,8],\n",
        "    'criterion' :['gini', 'entropy']\n",
        "}"
      ],
      "execution_count": 153,
      "outputs": []
    },
    {
      "cell_type": "code",
      "metadata": {
        "id": "jkrod4wPX1iB"
      },
      "source": [
        "grid_search = GridSearchCV(clf_ramdom_fores, grid, cv=3,\n",
        "                           scoring='accuracy',\n",
        "                           return_train_score=True)"
      ],
      "execution_count": 154,
      "outputs": []
    },
    {
      "cell_type": "code",
      "metadata": {
        "colab": {
          "base_uri": "https://localhost:8080/"
        },
        "id": "MQWnIMZZX-ef",
        "outputId": "c73954cb-b57b-480d-a513-2dd7cbc642ba"
      },
      "source": [
        "grid_search.fit(x_train, y_train)"
      ],
      "execution_count": 155,
      "outputs": [
        {
          "output_type": "execute_result",
          "data": {
            "text/plain": [
              "GridSearchCV(cv=3, estimator=RandomForestClassifier(),\n",
              "             param_grid={'criterion': ['gini', 'entropy'],\n",
              "                         'max_depth': [4, 5, 6, 7, 8],\n",
              "                         'max_features': ['auto', 'sqrt', 'log2'],\n",
              "                         'n_estimators': [200, 500]},\n",
              "             return_train_score=True, scoring='accuracy')"
            ]
          },
          "metadata": {},
          "execution_count": 155
        }
      ]
    },
    {
      "cell_type": "code",
      "metadata": {
        "colab": {
          "base_uri": "https://localhost:8080/"
        },
        "id": "vcEE9CFRYYiZ",
        "outputId": "7c9f0910-c2be-4a9a-9179-027cd27f0892"
      },
      "source": [
        "grid_search.best_params_"
      ],
      "execution_count": 156,
      "outputs": [
        {
          "output_type": "execute_result",
          "data": {
            "text/plain": [
              "{'criterion': 'entropy',\n",
              " 'max_depth': 8,\n",
              " 'max_features': 'auto',\n",
              " 'n_estimators': 500}"
            ]
          },
          "metadata": {},
          "execution_count": 156
        }
      ]
    },
    {
      "cell_type": "markdown",
      "metadata": {
        "id": "iV1h8lG_ByFD"
      },
      "source": [
        "Una vez obtenidos los mejores parámetros volvemos a crear el modelo pero asignando unos nuevos hiperparámetros con el fin de mejorar la calidad del modelo"
      ]
    },
    {
      "cell_type": "code",
      "metadata": {
        "id": "fjkkLImLAJW9"
      },
      "source": [
        "clf_ramdom_fores = RandomForestClassifier(criterion='entropy',max_depth=8,max_features='auto',n_estimators=200)"
      ],
      "execution_count": 157,
      "outputs": []
    },
    {
      "cell_type": "code",
      "metadata": {
        "colab": {
          "base_uri": "https://localhost:8080/"
        },
        "id": "vYf-75BsA_Hv",
        "outputId": "55cad648-ec20-4dfc-e08a-71f3de790758"
      },
      "source": [
        "clf_ramdom_foresf_cross_val = cross_val_score(clf_ramdom_fores, x_train, y_train, cv=3, scoring=\"accuracy\") # utilizamos el accuracy porque el dataset está bien balanceado\n",
        "display_score(sgd_clf_cross_val)"
      ],
      "execution_count": 158,
      "outputs": [
        {
          "output_type": "stream",
          "name": "stdout",
          "text": [
            "Scores [0.64071856 0.58858859 0.59459459]\n",
            "Mean 0.6079672486858115\n",
            "standard desviation 0.023288115178326158\n"
          ]
        }
      ]
    },
    {
      "cell_type": "markdown",
      "metadata": {
        "id": "XIMPDwLwB7NT"
      },
      "source": [
        "Asignando los parámetros y haciendo el cross validation curisoamente se demora mucho más que cuando se ejecuta son los sensible defaults y además obtenemos los mismos resultados"
      ]
    },
    {
      "cell_type": "code",
      "metadata": {
        "id": "eua2n75zAM9A"
      },
      "source": [
        "conf_matrix=confusion_matrix(y_train, y_train_pred)"
      ],
      "execution_count": 159,
      "outputs": []
    },
    {
      "cell_type": "code",
      "metadata": {
        "id": "oU5ZYPnp_ze0"
      },
      "source": [
        "y_train_pred = cross_val_predict(clf_ramdom_fores, x_train, y_train, cv=3)\n",
        "conf_matrix=confusion_matrix(y_train, y_train_pred)"
      ],
      "execution_count": 160,
      "outputs": []
    },
    {
      "cell_type": "code",
      "metadata": {
        "colab": {
          "base_uri": "https://localhost:8080/"
        },
        "id": "cbhtDctJAP4x",
        "outputId": "ed70d23e-6a85-4313-e623-1095a00b0fe7"
      },
      "source": [
        "display_other_scores(y_train_pred)"
      ],
      "execution_count": 161,
      "outputs": [
        {
          "output_type": "stream",
          "name": "stdout",
          "text": [
            "Show results with micro\n",
            "Precision score 0.639\n",
            "Recall score 0.639\n",
            "F1 score 0.639\n",
            "\n",
            "\n",
            "Show results with macro\n",
            "Precision score 0.6583795498986765\n",
            "Recall score 0.6051013216172886\n",
            "F1 score 0.6034689516510068\n",
            "\n",
            "\n",
            "Show results with weighted\n",
            "Precision score 0.6548750293545492\n",
            "Recall score 0.639\n",
            "F1 score 0.6254337352604598\n",
            "\n",
            "\n"
          ]
        }
      ]
    },
    {
      "cell_type": "markdown",
      "metadata": {
        "id": "38TwLLWtA6Q6"
      },
      "source": [
        "No se evidencia mucha diferencia entre los scores arrojados para cada parametro, sin embargo entre los 3 parametros el de mejor resultado es el weighted"
      ]
    },
    {
      "cell_type": "code",
      "metadata": {
        "colab": {
          "base_uri": "https://localhost:8080/"
        },
        "id": "3Xw4Z9QNJRA4",
        "outputId": "dd084364-232e-42c9-cd32-15cfec4831d4"
      },
      "source": [
        "clf_ramdom_fores.fit(x_train,y_train)"
      ],
      "execution_count": 162,
      "outputs": [
        {
          "output_type": "execute_result",
          "data": {
            "text/plain": [
              "RandomForestClassifier(criterion='entropy', max_depth=8, n_estimators=200)"
            ]
          },
          "metadata": {},
          "execution_count": 162
        }
      ]
    },
    {
      "cell_type": "markdown",
      "metadata": {
        "id": "KCexU8TaA1h9"
      },
      "source": [
        ""
      ]
    },
    {
      "cell_type": "code",
      "metadata": {
        "id": "IeDx__b-JeqK",
        "colab": {
          "base_uri": "https://localhost:8080/"
        },
        "outputId": "53f99a72-41a2-412f-da39-384e624b403a"
      },
      "source": [
        "sign_pred= clf_ramdom_fores.predict([some_letter])\n",
        "print(\"the prediction was\",classification[int(sign_pred)])"
      ],
      "execution_count": 167,
      "outputs": [
        {
          "output_type": "stream",
          "name": "stdout",
          "text": [
            "the prediction was D\n"
          ]
        }
      ]
    },
    {
      "cell_type": "markdown",
      "metadata": {
        "id": "ZqvK3R9Eazly"
      },
      "source": [
        "# Graphs RandomForest"
      ]
    },
    {
      "cell_type": "code",
      "metadata": {
        "colab": {
          "base_uri": "https://localhost:8080/",
          "height": 472
        },
        "id": "3_Qfgv2Ha4HY",
        "outputId": "2f0a21d9-7a0a-4847-c6e1-1299018ca1bf"
      },
      "source": [
        "plot_confusion_matrix(conf_matrix)"
      ],
      "execution_count": 165,
      "outputs": [
        {
          "output_type": "display_data",
          "data": {
            "image/png": "[encoded data removed]",
            "text/plain": [
              "<Figure size 576x576 with 2 Axes>"
            ]
          },
          "metadata": {
            "needs_background": "light"
          }
        }
      ]
    },
    {
      "cell_type": "markdown",
      "metadata": {
        "id": "jVlIBmypGRyN"
      },
      "source": [
        "Finalmente para este modelo tambien se tiene una diagonal principal de los true postive resultados relativamente regulares"
      ]
    }
  ]
}